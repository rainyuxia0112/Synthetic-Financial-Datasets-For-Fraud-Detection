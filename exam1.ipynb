{
 "cells": [
  {
   "cell_type": "markdown",
   "metadata": {},
   "source": [
    "# first, we read the data and then take a look of the data information."
   ]
  },
  {
   "cell_type": "code",
   "execution_count": 1,
   "metadata": {},
   "outputs": [],
   "source": [
    "import pandas as pd\n",
    "import numpy as np\n",
    "data = pd.read_csv('data.csv')"
   ]
  },
  {
   "cell_type": "code",
   "execution_count": 3,
   "metadata": {},
   "outputs": [
    {
     "name": "stdout",
     "output_type": "stream",
     "text": [
      "<class 'pandas.core.frame.DataFrame'>\n",
      "RangeIndex: 6362620 entries, 0 to 6362619\n",
      "Data columns (total 11 columns):\n",
      "step              int64\n",
      "type              object\n",
      "amount            float64\n",
      "nameOrig          object\n",
      "oldbalanceOrg     float64\n",
      "newbalanceOrig    float64\n",
      "nameDest          object\n",
      "oldbalanceDest    float64\n",
      "newbalanceDest    float64\n",
      "isFraud           int64\n",
      "isFlaggedFraud    int64\n",
      "dtypes: float64(5), int64(3), object(3)\n",
      "memory usage: 534.0+ MB\n"
     ]
    }
   ],
   "source": [
    "data.info()"
   ]
  },
  {
   "cell_type": "code",
   "execution_count": 4,
   "metadata": {},
   "outputs": [],
   "source": [
    "def summary(df):\n",
    "    \"\"\"\n",
    "    return - mean，std， missing data, the number of unique in each numeric columns\n",
    "    it is all about continous features in dataframe\n",
    "    \"\"\"\n",
    "    describe = df.describe()\n",
    "    describe = describe.T\n",
    "    total = len(df)\n",
    "    describe['percentage of missing data'] = round((total - describe['count']) /total, 2)  #proportion of missing data\n",
    "    describe['count'] = total\n",
    "    describe['number of unique'] = df.apply(lambda x: len(x.unique())) \n",
    "    return (describe)"
   ]
  },
  {
   "cell_type": "code",
   "execution_count": 5,
   "metadata": {},
   "outputs": [
    {
     "data": {
      "text/html": [
       "<div>\n",
       "<style scoped>\n",
       "    .dataframe tbody tr th:only-of-type {\n",
       "        vertical-align: middle;\n",
       "    }\n",
       "\n",
       "    .dataframe tbody tr th {\n",
       "        vertical-align: top;\n",
       "    }\n",
       "\n",
       "    .dataframe thead th {\n",
       "        text-align: right;\n",
       "    }\n",
       "</style>\n",
       "<table border=\"1\" class=\"dataframe\">\n",
       "  <thead>\n",
       "    <tr style=\"text-align: right;\">\n",
       "      <th></th>\n",
       "      <th>count</th>\n",
       "      <th>mean</th>\n",
       "      <th>std</th>\n",
       "      <th>min</th>\n",
       "      <th>25%</th>\n",
       "      <th>50%</th>\n",
       "      <th>75%</th>\n",
       "      <th>max</th>\n",
       "      <th>percentage of missing data</th>\n",
       "      <th>number of unique</th>\n",
       "    </tr>\n",
       "  </thead>\n",
       "  <tbody>\n",
       "    <tr>\n",
       "      <th>amount</th>\n",
       "      <td>6362620</td>\n",
       "      <td>1.798619e+05</td>\n",
       "      <td>6.038582e+05</td>\n",
       "      <td>0.0</td>\n",
       "      <td>13389.57</td>\n",
       "      <td>74871.940</td>\n",
       "      <td>2.087215e+05</td>\n",
       "      <td>9.244552e+07</td>\n",
       "      <td>0.0</td>\n",
       "      <td>5316900</td>\n",
       "    </tr>\n",
       "    <tr>\n",
       "      <th>oldbalanceOrg</th>\n",
       "      <td>6362620</td>\n",
       "      <td>8.338831e+05</td>\n",
       "      <td>2.888243e+06</td>\n",
       "      <td>0.0</td>\n",
       "      <td>0.00</td>\n",
       "      <td>14208.000</td>\n",
       "      <td>1.073152e+05</td>\n",
       "      <td>5.958504e+07</td>\n",
       "      <td>0.0</td>\n",
       "      <td>1845844</td>\n",
       "    </tr>\n",
       "    <tr>\n",
       "      <th>newbalanceOrig</th>\n",
       "      <td>6362620</td>\n",
       "      <td>8.551137e+05</td>\n",
       "      <td>2.924049e+06</td>\n",
       "      <td>0.0</td>\n",
       "      <td>0.00</td>\n",
       "      <td>0.000</td>\n",
       "      <td>1.442584e+05</td>\n",
       "      <td>4.958504e+07</td>\n",
       "      <td>0.0</td>\n",
       "      <td>2682586</td>\n",
       "    </tr>\n",
       "    <tr>\n",
       "      <th>oldbalanceDest</th>\n",
       "      <td>6362620</td>\n",
       "      <td>1.100702e+06</td>\n",
       "      <td>3.399180e+06</td>\n",
       "      <td>0.0</td>\n",
       "      <td>0.00</td>\n",
       "      <td>132705.665</td>\n",
       "      <td>9.430367e+05</td>\n",
       "      <td>3.560159e+08</td>\n",
       "      <td>0.0</td>\n",
       "      <td>3614697</td>\n",
       "    </tr>\n",
       "    <tr>\n",
       "      <th>newbalanceDest</th>\n",
       "      <td>6362620</td>\n",
       "      <td>1.224996e+06</td>\n",
       "      <td>3.674129e+06</td>\n",
       "      <td>0.0</td>\n",
       "      <td>0.00</td>\n",
       "      <td>214661.440</td>\n",
       "      <td>1.111909e+06</td>\n",
       "      <td>3.561793e+08</td>\n",
       "      <td>0.0</td>\n",
       "      <td>3555499</td>\n",
       "    </tr>\n",
       "  </tbody>\n",
       "</table>\n",
       "</div>"
      ],
      "text/plain": [
       "                  count          mean           std  min       25%  \\\n",
       "amount          6362620  1.798619e+05  6.038582e+05  0.0  13389.57   \n",
       "oldbalanceOrg   6362620  8.338831e+05  2.888243e+06  0.0      0.00   \n",
       "newbalanceOrig  6362620  8.551137e+05  2.924049e+06  0.0      0.00   \n",
       "oldbalanceDest  6362620  1.100702e+06  3.399180e+06  0.0      0.00   \n",
       "newbalanceDest  6362620  1.224996e+06  3.674129e+06  0.0      0.00   \n",
       "\n",
       "                       50%           75%           max  \\\n",
       "amount           74871.940  2.087215e+05  9.244552e+07   \n",
       "oldbalanceOrg    14208.000  1.073152e+05  5.958504e+07   \n",
       "newbalanceOrig       0.000  1.442584e+05  4.958504e+07   \n",
       "oldbalanceDest  132705.665  9.430367e+05  3.560159e+08   \n",
       "newbalanceDest  214661.440  1.111909e+06  3.561793e+08   \n",
       "\n",
       "                percentage of missing data  number of unique  \n",
       "amount                                 0.0           5316900  \n",
       "oldbalanceOrg                          0.0           1845844  \n",
       "newbalanceOrig                         0.0           2682586  \n",
       "oldbalanceDest                         0.0           3614697  \n",
       "newbalanceDest                         0.0           3555499  "
      ]
     },
     "execution_count": 5,
     "metadata": {},
     "output_type": "execute_result"
    }
   ],
   "source": [
    "data_con = data[['amount', 'oldbalanceOrg', 'newbalanceOrig', 'oldbalanceDest', 'newbalanceDest']]\n",
    "summary(data_con)"
   ]
  },
  {
   "cell_type": "code",
   "execution_count": 8,
   "metadata": {},
   "outputs": [],
   "source": [
    "def summary_cat(df):\n",
    "    \"\"\"\n",
    "    return - proportion of missing data，the number of unique\n",
    "    categorical features\n",
    "    \"\"\"\n",
    "    describe = df.describe()\n",
    "    describe = describe.T\n",
    "    total = len(df)\n",
    "    describe['percentage of missing data'] = round((total - describe['count']) /total, 2)  #proportion of missing data\n",
    "    describe['count'] = total\n",
    "    describe['number of unique'] = df.apply(lambda x: len(x.unique())) \n",
    "    describe['mode'] = df.apply(lambda x: x.value_counts().idxmax())   #most frequent cat\n",
    "    describe['mode_freq'] = df.apply(lambda x: x.value_counts().max()) # frequency\n",
    "    describe['second_mode'] = df.apply(lambda x: x.value_counts().index[1])   \n",
    "    describe['second_mode_freq'] = df.apply(lambda x: x.value_counts()[1]) \n",
    "    describe = describe[['count', 'number of unique', 'percentage of missing data', 'mode',\n",
    "                         'mode_freq', 'second_mode', 'second_mode_freq']]\n",
    "    return (describe)"
   ]
  },
  {
   "cell_type": "code",
   "execution_count": 9,
   "metadata": {},
   "outputs": [
    {
     "data": {
      "text/html": [
       "<div>\n",
       "<style scoped>\n",
       "    .dataframe tbody tr th:only-of-type {\n",
       "        vertical-align: middle;\n",
       "    }\n",
       "\n",
       "    .dataframe tbody tr th {\n",
       "        vertical-align: top;\n",
       "    }\n",
       "\n",
       "    .dataframe thead th {\n",
       "        text-align: right;\n",
       "    }\n",
       "</style>\n",
       "<table border=\"1\" class=\"dataframe\">\n",
       "  <thead>\n",
       "    <tr style=\"text-align: right;\">\n",
       "      <th></th>\n",
       "      <th>count</th>\n",
       "      <th>number of unique</th>\n",
       "      <th>percentage of missing data</th>\n",
       "      <th>mode</th>\n",
       "      <th>mode_freq</th>\n",
       "      <th>second_mode</th>\n",
       "      <th>second_mode_freq</th>\n",
       "    </tr>\n",
       "  </thead>\n",
       "  <tbody>\n",
       "    <tr>\n",
       "      <th>isFraud</th>\n",
       "      <td>6362620</td>\n",
       "      <td>2</td>\n",
       "      <td>0.0</td>\n",
       "      <td>0</td>\n",
       "      <td>6354407</td>\n",
       "      <td>1</td>\n",
       "      <td>8213</td>\n",
       "    </tr>\n",
       "    <tr>\n",
       "      <th>isFlaggedFraud</th>\n",
       "      <td>6362620</td>\n",
       "      <td>2</td>\n",
       "      <td>0.0</td>\n",
       "      <td>0</td>\n",
       "      <td>6362604</td>\n",
       "      <td>1</td>\n",
       "      <td>16</td>\n",
       "    </tr>\n",
       "  </tbody>\n",
       "</table>\n",
       "</div>"
      ],
      "text/plain": [
       "                  count  number of unique  percentage of missing data mode  \\\n",
       "isFraud         6362620                 2                         0.0    0   \n",
       "isFlaggedFraud  6362620                 2                         0.0    0   \n",
       "\n",
       "                mode_freq second_mode  second_mode_freq  \n",
       "isFraud           6354407           1              8213  \n",
       "isFlaggedFraud    6362604           1                16  "
      ]
     },
     "execution_count": 9,
     "metadata": {},
     "output_type": "execute_result"
    }
   ],
   "source": [
    "data_cat = data[['type', 'isFraud', 'isFlaggedFraud']]\n",
    "summary_cat(data_cat)"
   ]
  },
  {
   "cell_type": "markdown",
   "metadata": {},
   "source": [
    "this data has 11 columns and there is no missing data in it. \n",
    "Issue: the number of transactions which are flagged fraud is much less than the number of transactions which are fraud."
   ]
  },
  {
   "cell_type": "markdown",
   "metadata": {},
   "source": [
    "# Second, Visualizations"
   ]
  },
  {
   "cell_type": "code",
   "execution_count": 12,
   "metadata": {},
   "outputs": [
    {
     "data": {
      "image/png": "[encoded data removed]",
      "text/plain": [
       "<Figure size 648x432 with 1 Axes>"
      ]
     },
     "metadata": {
      "needs_background": "light"
     },
     "output_type": "display_data"
    }
   ],
   "source": [
    "# 1 boxplot for the amount feature in isFraud =1 and isFlaggedFraud =1 category\n",
    "amount_fraud = data[data.isFraud == 1]['amount']\n",
    "amount_flag_fraud = data[data.isFlaggedFraud == 1]['amount']\n",
    "amount_plot = [amount_fraud, amount_flag_fraud]\n",
    "# Create a figure instance\n",
    "import matplotlib.pyplot as plt\n",
    "fig = plt.figure(1, figsize=(9, 6))\n",
    "\n",
    "# Create an axes instance\n",
    "ax = fig.add_subplot(111)\n",
    "bp = ax.boxplot(amount_plot, patch_artist=True, notch=True)\n",
    "\n",
    "## change outline color, fill color and linewidth of the boxes  \n",
    "for box in bp['boxes']:\n",
    "    # change outline color\n",
    "    box.set( color='#7570b3', linewidth=2)\n",
    "    # change fill color\n",
    "    box.set( facecolor = 'skyblue' )\n",
    "\n",
    "## change color and linewidth of the whiskers\n",
    "for whisker in bp['whiskers']:\n",
    "    whisker.set(color='#7570b3', linewidth=2)\n",
    "\n",
    "## change color and linewidth of the caps\n",
    "for cap in bp['caps']:\n",
    "    cap.set(color='#7570b3', linewidth=2)\n",
    "\n",
    "## change color and linewidth of the medians\n",
    "for median in bp['medians']:\n",
    "    median.set(color='#b2df8a', linewidth=2)\n",
    "\n",
    "## change the style of fliers and their fill\n",
    "for flier in bp['fliers']:\n",
    "    flier.set(marker='o', color='#e7298a', alpha=0.5)\n",
    "\n",
    "## Custom x-axis labels\n",
    "ax.set_xticklabels(['amount_fraud', 'amount_flag_fraud'])\n",
    "plt.title('box plot for amount in Fraud and isFlaggedFraud type')\n",
    "plt.show()"
   ]
  },
  {
   "cell_type": "markdown",
   "metadata": {},
   "source": [
    "As we can see, the medium of amount of fraud is lower than the medium of amount of flag_fraud; therefore, maybe the cutoff of the flag_fraud needs to be changed in order to catch more fraud case."
   ]
  },
  {
   "cell_type": "code",
   "execution_count": 59,
   "metadata": {},
   "outputs": [
    {
     "data": {
      "image/png": "[encoded data removed]",
      "text/plain": [
       "<Figure size 432x288 with 1 Axes>"
      ]
     },
     "metadata": {
      "needs_background": "light"
     },
     "output_type": "display_data"
    }
   ],
   "source": [
    "# 2 plot histgram which are the fraud per transaction type\n",
    "ax = data.groupby(['type', 'isFraud']).size().plot(kind='bar')\n",
    "ax.set_title(\"the number of transaction which are the actual fraud per transaction type\")\n",
    "ax.set_xlabel(\"(Type, isFraud)\")\n",
    "ax.set_ylabel(\"Count of transaction\")\n",
    "for p in ax.patches:\n",
    "    ax.annotate(str(format(int(p.get_height()), ',d')), (p.get_x(), p.get_height()*1.01))"
   ]
  },
  {
   "cell_type": "markdown",
   "metadata": {},
   "source": [
    "Only cash_out and transfer type can be fraud. Therefore, in the future modeling, we only focus on these two type."
   ]
  },
  {
   "cell_type": "code",
   "execution_count": 61,
   "metadata": {},
   "outputs": [
    {
     "data": {
      "image/png": "[encoded data removed]",
      "text/plain": [
       "<Figure size 432x288 with 1 Axes>"
      ]
     },
     "metadata": {
      "needs_background": "light"
     },
     "output_type": "display_data"
    }
   ],
   "source": [
    "# 3 plot histgram which are the flagfraud per transaction type\n",
    "ax = data.groupby(['type', 'isFlaggedFraud']).size().plot(kind='bar')\n",
    "ax.set_title(\"# of transaction which is flagged as fraud per transaction type\")\n",
    "ax.set_xlabel(\"(Type, isFlaggedFraud)\")\n",
    "ax.set_ylabel(\"Count of transaction\")\n",
    "for p in ax.patches:\n",
    "    ax.annotate(str(format(int(p.get_height()), ',d')), (p.get_x(), p.get_height()*1.01)) # write number on the bar"
   ]
  },
  {
   "cell_type": "markdown",
   "metadata": {},
   "source": [
    "It looks the simulation can flag only 16 transfer transactions as fraud. Let's look at those records and compare with the records which the system cannot catch them."
   ]
  },
  {
   "cell_type": "code",
   "execution_count": 43,
   "metadata": {},
   "outputs": [
    {
     "data": {
      "image/png": "[encoded data removed]",
      "text/plain": [
       "<Figure size 432x288 with 1 Axes>"
      ]
     },
     "metadata": {
      "needs_background": "light"
     },
     "output_type": "display_data"
    }
   ],
   "source": [
    "# 3 plot the amount and the step\n",
    "plt.scatter(data.step, data.amount, color='skyblue', s = 0.5)\n",
    "plt.xlabel('hour')\n",
    "plt.ylabel('amount')\n",
    "plt.title('the plot between the amount and the hour')\n",
    "plt.show()"
   ]
  },
  {
   "cell_type": "code",
   "execution_count": 38,
   "metadata": {},
   "outputs": [
    {
     "data": {
      "image/png": "[encoded data removed]",
      "text/plain": [
       "<Figure size 432x288 with 1 Axes>"
      ]
     },
     "metadata": {
      "needs_background": "light"
     },
     "output_type": "display_data"
    }
   ],
   "source": [
    "# 4 plot average the amount and the step\n",
    "import numpy as np\n",
    "hour = data.step.unique()\n",
    "average = [np.median(data[data.step == i].amount)  for i in hour]\n",
    "plt.plot(hour, average, color='skyblue', label='10x-v2-A')\n",
    "plt.xlabel('hour')\n",
    "plt.ylabel('average amount')\n",
    "plt.title('relationshuip between the average amount and the hour')\n",
    "plt.show()"
   ]
  },
  {
   "cell_type": "markdown",
   "metadata": {},
   "source": [
    "as the plot shown above, the median of the amount in each hour has peroid pattern"
   ]
  },
  {
   "cell_type": "code",
   "execution_count": null,
   "metadata": {},
   "outputs": [],
   "source": [
    "# 5 plot percentage of fraud case in every hour\n",
    "import seaborn as sns\n",
    "fraud_case = [sum(data[data.step == i].isFraud == 1)/len(data[data.step == i]) for i in hour]\n",
    "case = [len(data[data.step == i]) for i in hour]\n",
    "\n",
    "fig = plt.figure()\n",
    "ax1 = fig.add_subplot(111)\n",
    "ax1.plot(fraud_case, color=\"skyblue\")\n",
    "ax1.set_ylabel('the percentage of fraud_case')\n",
    "\n",
    "ax2 = ax1.twinx()  # this is the important function\n",
    "ax2.plot(case, color=\"yellow\")\n",
    "ax2.set_ylabel('the number of cases')\n",
    "ax2.set_title('the number of cases in every hour/percentage of fraud case in every hour')\n",
    "ax2.set_xlabel('hour', fontsize=16)\n",
    "ax2.set_ylabel('the number of cases/percentage of fraud', fontsize=16)\n",
    "plt.legend()\n",
    "plt.show()"
   ]
  },
  {
   "cell_type": "code",
   "execution_count": 44,
   "metadata": {},
   "outputs": [
    {
     "data": {
      "image/png": "[encoded data removed]",
      "text/plain": [
       "<Figure size 432x288 with 1 Axes>"
      ]
     },
     "metadata": {
      "needs_background": "light"
     },
     "output_type": "display_data"
    }
   ],
   "source": [
    "# 6 plot amount of transaction cases in every hour\n",
    "case = [len(data[data.step == i]) for i in hour]\n",
    "plt.plot(case, color=\"skyblue\")\n",
    "plt.title('the number of cases in every hour', fontsize=18)\n",
    "plt.xlabel('hour', fontsize=16)\n",
    "plt.ylabel('the number of cases', fontsize=16)\n",
    "plt.show()"
   ]
  },
  {
   "cell_type": "markdown",
   "metadata": {},
   "source": [
    "As the plot shown above, there is two conditions in the whole hours, one is before 400 hours and one is after 400 hours. Also, we can see, before 300 hours, when the number of transcation cases in small, the percentage of fraud cases is almost 1, which means if in a certain hour, the number of transcation cases in small, maybe we can say all of them are fraud."
   ]
  },
  {
   "cell_type": "markdown",
   "metadata": {},
   "source": [
    "# Modeling using Logistic Regression and RandomForest"
   ]
  },
  {
   "cell_type": "code",
   "execution_count": 65,
   "metadata": {},
   "outputs": [
    {
     "data": {
      "text/plain": [
       "<matplotlib.axes._subplots.AxesSubplot at 0x1244a82b0>"
      ]
     },
     "execution_count": 65,
     "metadata": {},
     "output_type": "execute_result"
    },
    {
     "data": {
      "image/png": "[encoded data removed]",
      "text/plain": [
       "<Figure size 432x288 with 2 Axes>"
      ]
     },
     "metadata": {
      "needs_background": "light"
     },
     "output_type": "display_data"
    }
   ],
   "source": [
    "from statsmodels.tools import categorical\n",
    "\n",
    "# Keep only interested transaction type ('TRANSFER', 'CASH_OUT')\n",
    "# plot the heatmap of different features\n",
    "import matplotlib.cm as cm\n",
    "tmp = data[(data['type'].isin(['TRANSFER', 'CASH_OUT']))]\n",
    "tmp.drop(['step', 'nameOrig', 'nameDest', 'isFlaggedFraud'], axis=1, inplace=True)\n",
    "new = tmp.reset_index(drop=True)\n",
    "a = np.array(tmp['type'])\n",
    "b = categorical(a, drop=True)\n",
    "new['type_num'] = b.argmax(1)\n",
    "\n",
    "# plot the heatmap\n",
    "sns.heatmap(new.corr())"
   ]
  },
  {
   "cell_type": "markdown",
   "metadata": {},
   "source": [
    "Firstly, we need to split data into two part, one is before 400 hours, one is after 400 hours."
   ]
  },
  {
   "cell_type": "markdown",
   "metadata": {},
   "source": [
    "data cleansing:\n",
    "1 drop other types\n",
    "2 transfer variable type to dummy variable \n",
    "3 split data into two seperate group using step"
   ]
  },
  {
   "cell_type": "code",
   "execution_count": 71,
   "metadata": {},
   "outputs": [
    {
     "name": "stdout",
     "output_type": "stream",
     "text": [
      "      amount  oldbalanceOrg  newbalanceOrig  oldbalanceDest  newbalanceDest  \\\n",
      "0     181.00          181.0             0.0             0.0            0.00   \n",
      "1     181.00          181.0             0.0         21182.0            0.00   \n",
      "2  229133.94        15325.0             0.0          5083.0        51513.44   \n",
      "3  215310.30          705.0             0.0         22425.0            0.00   \n",
      "4  311685.89        10835.0             0.0          6267.0      2719172.89   \n",
      "\n",
      "   isFraud  TRANSFER  \n",
      "0        1         1  \n",
      "1        1         0  \n",
      "2        0         0  \n",
      "3        0         1  \n",
      "4        0         1  \n",
      "       amount  oldbalanceOrg  newbalanceOrig  oldbalanceDest  newbalanceDest  \\\n",
      "0  1151981.33       19961.00             0.0       401552.02      1553533.36   \n",
      "1  1305558.68      102651.73             0.0      4178031.32      5483589.99   \n",
      "2    88950.10       30280.00             0.0            0.00        88950.10   \n",
      "3    12821.40       96367.00         83545.6            0.00        12821.40   \n",
      "4   607677.89       10178.00             0.0            0.00       607677.89   \n",
      "\n",
      "   isFraud  TRANSFER  \n",
      "0        0         1  \n",
      "1        0         1  \n",
      "2        0         0  \n",
      "3        0         0  \n",
      "4        0         1  \n"
     ]
    }
   ],
   "source": [
    "# drop other types\n",
    "data = data[(data['type'].isin(['TRANSFER', 'CASH_OUT']))]\n",
    "# transfer to dummy variable \n",
    "dummy = pd.get_dummies(data['type'])  \n",
    "data = pd.concat((data[['step', 'amount', 'oldbalanceOrg', 'newbalanceOrig', 'oldbalanceDest', \n",
    "                        'newbalanceDest', 'isFraud']], dummy[['TRANSFER']]), axis = 1) \n",
    "\n",
    "data_1 = data[data.step < 400]\n",
    "data_2 = data[data.step >= 400]\n",
    "data_1.drop(['step'], axis=1, inplace=True)\n",
    "new_1 = data_1.reset_index(drop=True)\n",
    "data_2.drop(['step'], axis=1, inplace=True)\n",
    "new_2 = data_2.reset_index(drop=True)\n",
    "print (new_1.head())\n",
    "print (new_2.head())"
   ]
  },
  {
   "cell_type": "markdown",
   "metadata": {},
   "source": [
    "# For data1, modeling\n",
    "## notes: my computer can not afford such big data, so I just random sample data."
   ]
  },
  {
   "cell_type": "code",
   "execution_count": 101,
   "metadata": {},
   "outputs": [
    {
     "name": "stderr",
     "output_type": "stream",
     "text": [
      "/Users/rain/anaconda3/envs/python37/lib/python3.6/site-packages/sklearn/model_selection/_split.py:2069: FutureWarning: From version 0.21, test_size will always complement train_size unless both are specified.\n",
      "  FutureWarning)\n"
     ]
    }
   ],
   "source": [
    "# now, using logistics regression to do classfication\n",
    "## for data1 \n",
    "## 1 split into training and validation data\n",
    "## 2 fit the model\n",
    "## 3 Predict values using the test indices in the testing data\n",
    "## 4 Calculate the recall score\n",
    "import sklearn\n",
    "x_1 = new_1[['amount',  'oldbalanceOrg',  'newbalanceOrig',  'oldbalanceDest',  'newbalanceDest', 'TRANSFER']]\n",
    "Y_1 = new_1['isFraud']\n",
    "x_train_1, x_test_1, y_train_1, y_test_1 = sklearn.model_selection.train_test_split(x_1, Y_1, train_size = 0.8)\n"
   ]
  },
  {
   "cell_type": "code",
   "execution_count": 123,
   "metadata": {},
   "outputs": [],
   "source": [
    "from sklearn.linear_model import LogisticRegression\n",
    "from sklearn.ensemble import RandomForestClassifier\n",
    "from sklearn.model_selection import StratifiedKFold\n",
    "import sklearn.model_selection\n",
    "import sklearn.metrics"
   ]
  },
  {
   "cell_type": "code",
   "execution_count": 128,
   "metadata": {},
   "outputs": [],
   "source": [
    "# using k-fold to fit the model\n",
    "def Kfold_scores(x_train_data, y_train_data, kfoldnum , c_array):\n",
    "    \"\"\"\n",
    "    using k-fold cross validation to fit the model\n",
    "    kfoldnum - the number of k in cross validation\n",
    "    c_array - is the learning rate \n",
    "    \"\"\"\n",
    "    fold = StratifiedKFold(kfoldnum, random_state=None, shuffle=False)  # define K-Fold\n",
    "\n",
    "    results_table = pd.DataFrame(index = range(len(c_array),3), columns = ['C_parameter','Mean recall score', 'Mean precision score'])\n",
    "    results_table['C_parameter'] = c_array\n",
    "\n",
    "    # the k-fold will give 2 lists: train_indices = indices[0], test_indices = indices[1]\n",
    "    j = 0\n",
    "    for c_param in c_array:\n",
    "        print('-------------------------------------------')\n",
    "        print('C parameter: ', c_param)\n",
    "        print('-------------------------------------------')\n",
    "        print('')\n",
    "\n",
    "        recall_accs = []\n",
    "        precision_accs = []\n",
    "        for iteration, indices in enumerate(fold.split(x_train_data, y_train_data),start=1):\n",
    "\n",
    "            # Call the logistic regression model with a certain C parameter\n",
    "            lr = LogisticRegression(C = c_param, penalty = 'l1')\n",
    "\n",
    "            # Use the training data to fit the model. In this case, we use the portion of the fold to train the model\n",
    "            # with indices[0]. We then predict on the portion assigned as the 'test cross validation' with indices[1]\n",
    "            lr.fit(x_train_data.iloc[indices[0],:],y_train_data.iloc[indices[0]])\n",
    "\n",
    "            # Predict values using the test indices in the training data\n",
    "            y_pred_undersample = lr.predict(x_train_data.iloc[indices[1],:])\n",
    "\n",
    "            # Calculate the recall score and append it to a list for recall scores representing the current c_parameter\n",
    "            recall_acc = sklearn.metrics.recall_score(y_train_data.iloc[indices[1]],y_pred_undersample)\n",
    "            recall_accs.append(recall_acc)\n",
    "            \n",
    "            precision_acc = sklearn.metrics.precision_score(y_train_data.iloc[indices[1]], y_pred_undersample)\n",
    "            precision_accs.append(precision_acc)\n",
    "            print(\"Iteration {}: recall score = {:.4f}, precision score = {:.4f}\".format(iteration, recall_acc, precision_acc))\n",
    "\n",
    "        # The mean value of those recall scores is the metric we want to save and get hold of.\n",
    "        results_table.ix[j,'Mean recall score'] = np.mean(recall_accs)\n",
    "        results_table.ix[j, 'Mean precision score'] = np.mean(precision_accs)\n",
    "        j += 1\n",
    "        print('')\n",
    "        print('Mean recall score'.format(np.mean(recall_accs)))\n",
    "        print('Mean precision score'.format(np.mean(precision_accs)))\n",
    "        print('')\n",
    "\n",
    "    best_c = results_table[results_table['Mean recall score'] == \n",
    "                               np.max(results_table['Mean recall score'])]['C_parameter']\n",
    "    \n",
    "    # Finally, we can check which C parameter is the best amongst the chosen.\n",
    "    print('*********************************************************************************')\n",
    "    print('Best model to choose from cross validation is with C parameter = ', best_c)\n",
    "    print('*********************************************************************************')\n",
    "    \n",
    "    return (best_c)"
   ]
  },
  {
   "cell_type": "code",
   "execution_count": 155,
   "metadata": {},
   "outputs": [
    {
     "name": "stdout",
     "output_type": "stream",
     "text": [
      "-------------------------------------------\n",
      "C parameter:  0.01\n",
      "-------------------------------------------\n",
      "\n"
     ]
    },
    {
     "name": "stderr",
     "output_type": "stream",
     "text": [
      "/Users/rain/anaconda3/envs/python37/lib/python3.6/site-packages/sklearn/linear_model/logistic.py:432: FutureWarning: Default solver will be changed to 'lbfgs' in 0.22. Specify a solver to silence this warning.\n",
      "  FutureWarning)\n"
     ]
    },
    {
     "name": "stdout",
     "output_type": "stream",
     "text": [
      "Iteration 1: recall score = 0.4474, precision score = 0.8947\n"
     ]
    },
    {
     "name": "stderr",
     "output_type": "stream",
     "text": [
      "/Users/rain/anaconda3/envs/python37/lib/python3.6/site-packages/sklearn/linear_model/logistic.py:432: FutureWarning: Default solver will be changed to 'lbfgs' in 0.22. Specify a solver to silence this warning.\n",
      "  FutureWarning)\n"
     ]
    },
    {
     "name": "stdout",
     "output_type": "stream",
     "text": [
      "Iteration 2: recall score = 0.4474, precision score = 1.0000\n"
     ]
    },
    {
     "name": "stderr",
     "output_type": "stream",
     "text": [
      "/Users/rain/anaconda3/envs/python37/lib/python3.6/site-packages/sklearn/linear_model/logistic.py:432: FutureWarning: Default solver will be changed to 'lbfgs' in 0.22. Specify a solver to silence this warning.\n",
      "  FutureWarning)\n",
      "/Users/rain/anaconda3/envs/python37/lib/python3.6/site-packages/sklearn/svm/base.py:922: ConvergenceWarning: Liblinear failed to converge, increase the number of iterations.\n",
      "  \"the number of iterations.\", ConvergenceWarning)\n",
      "/Users/rain/anaconda3/envs/python37/lib/python3.6/site-packages/sklearn/linear_model/logistic.py:432: FutureWarning: Default solver will be changed to 'lbfgs' in 0.22. Specify a solver to silence this warning.\n",
      "  FutureWarning)\n"
     ]
    },
    {
     "name": "stdout",
     "output_type": "stream",
     "text": [
      "Iteration 3: recall score = 0.4474, precision score = 0.9444\n",
      "Iteration 4: recall score = 0.4865, precision score = 0.9000\n"
     ]
    },
    {
     "name": "stderr",
     "output_type": "stream",
     "text": [
      "/Users/rain/anaconda3/envs/python37/lib/python3.6/site-packages/sklearn/linear_model/logistic.py:432: FutureWarning: Default solver will be changed to 'lbfgs' in 0.22. Specify a solver to silence this warning.\n",
      "  FutureWarning)\n"
     ]
    },
    {
     "name": "stdout",
     "output_type": "stream",
     "text": [
      "Iteration 5: recall score = 0.4054, precision score = 1.0000\n",
      "\n",
      "Mean recall score\n",
      "Mean precision score\n",
      "\n",
      "-------------------------------------------\n",
      "C parameter:  0.1\n",
      "-------------------------------------------\n",
      "\n"
     ]
    },
    {
     "name": "stderr",
     "output_type": "stream",
     "text": [
      "/Users/rain/anaconda3/envs/python37/lib/python3.6/site-packages/ipykernel_launcher.py:44: DeprecationWarning: \n",
      ".ix is deprecated. Please use\n",
      ".loc for label based indexing or\n",
      ".iloc for positional indexing\n",
      "\n",
      "See the documentation here:\n",
      "http://pandas.pydata.org/pandas-docs/stable/indexing.html#ix-indexer-is-deprecated\n",
      "/Users/rain/anaconda3/envs/python37/lib/python3.6/site-packages/ipykernel_launcher.py:45: DeprecationWarning: \n",
      ".ix is deprecated. Please use\n",
      ".loc for label based indexing or\n",
      ".iloc for positional indexing\n",
      "\n",
      "See the documentation here:\n",
      "http://pandas.pydata.org/pandas-docs/stable/indexing.html#ix-indexer-is-deprecated\n",
      "/Users/rain/anaconda3/envs/python37/lib/python3.6/site-packages/sklearn/linear_model/logistic.py:432: FutureWarning: Default solver will be changed to 'lbfgs' in 0.22. Specify a solver to silence this warning.\n",
      "  FutureWarning)\n"
     ]
    },
    {
     "name": "stdout",
     "output_type": "stream",
     "text": [
      "Iteration 1: recall score = 0.4474, precision score = 0.8500\n"
     ]
    },
    {
     "name": "stderr",
     "output_type": "stream",
     "text": [
      "/Users/rain/anaconda3/envs/python37/lib/python3.6/site-packages/sklearn/linear_model/logistic.py:432: FutureWarning: Default solver will be changed to 'lbfgs' in 0.22. Specify a solver to silence this warning.\n",
      "  FutureWarning)\n"
     ]
    },
    {
     "name": "stdout",
     "output_type": "stream",
     "text": [
      "Iteration 2: recall score = 0.4474, precision score = 0.9444\n"
     ]
    },
    {
     "name": "stderr",
     "output_type": "stream",
     "text": [
      "/Users/rain/anaconda3/envs/python37/lib/python3.6/site-packages/sklearn/linear_model/logistic.py:432: FutureWarning: Default solver will be changed to 'lbfgs' in 0.22. Specify a solver to silence this warning.\n",
      "  FutureWarning)\n",
      "/Users/rain/anaconda3/envs/python37/lib/python3.6/site-packages/sklearn/svm/base.py:922: ConvergenceWarning: Liblinear failed to converge, increase the number of iterations.\n",
      "  \"the number of iterations.\", ConvergenceWarning)\n",
      "/Users/rain/anaconda3/envs/python37/lib/python3.6/site-packages/sklearn/linear_model/logistic.py:432: FutureWarning: Default solver will be changed to 'lbfgs' in 0.22. Specify a solver to silence this warning.\n",
      "  FutureWarning)\n"
     ]
    },
    {
     "name": "stdout",
     "output_type": "stream",
     "text": [
      "Iteration 3: recall score = 0.4474, precision score = 0.8947\n",
      "Iteration 4: recall score = 0.4865, precision score = 0.9000\n"
     ]
    },
    {
     "name": "stderr",
     "output_type": "stream",
     "text": [
      "/Users/rain/anaconda3/envs/python37/lib/python3.6/site-packages/sklearn/linear_model/logistic.py:432: FutureWarning: Default solver will be changed to 'lbfgs' in 0.22. Specify a solver to silence this warning.\n",
      "  FutureWarning)\n"
     ]
    },
    {
     "name": "stdout",
     "output_type": "stream",
     "text": [
      "Iteration 5: recall score = 0.4054, precision score = 1.0000\n",
      "\n",
      "Mean recall score\n",
      "Mean precision score\n",
      "\n",
      "-------------------------------------------\n",
      "C parameter:  1\n",
      "-------------------------------------------\n",
      "\n"
     ]
    },
    {
     "name": "stderr",
     "output_type": "stream",
     "text": [
      "/Users/rain/anaconda3/envs/python37/lib/python3.6/site-packages/ipykernel_launcher.py:44: DeprecationWarning: \n",
      ".ix is deprecated. Please use\n",
      ".loc for label based indexing or\n",
      ".iloc for positional indexing\n",
      "\n",
      "See the documentation here:\n",
      "http://pandas.pydata.org/pandas-docs/stable/indexing.html#ix-indexer-is-deprecated\n",
      "/Users/rain/anaconda3/envs/python37/lib/python3.6/site-packages/ipykernel_launcher.py:45: DeprecationWarning: \n",
      ".ix is deprecated. Please use\n",
      ".loc for label based indexing or\n",
      ".iloc for positional indexing\n",
      "\n",
      "See the documentation here:\n",
      "http://pandas.pydata.org/pandas-docs/stable/indexing.html#ix-indexer-is-deprecated\n",
      "/Users/rain/anaconda3/envs/python37/lib/python3.6/site-packages/sklearn/linear_model/logistic.py:432: FutureWarning: Default solver will be changed to 'lbfgs' in 0.22. Specify a solver to silence this warning.\n",
      "  FutureWarning)\n"
     ]
    },
    {
     "name": "stdout",
     "output_type": "stream",
     "text": [
      "Iteration 1: recall score = 0.4474, precision score = 0.7727\n"
     ]
    },
    {
     "name": "stderr",
     "output_type": "stream",
     "text": [
      "/Users/rain/anaconda3/envs/python37/lib/python3.6/site-packages/sklearn/linear_model/logistic.py:432: FutureWarning: Default solver will be changed to 'lbfgs' in 0.22. Specify a solver to silence this warning.\n",
      "  FutureWarning)\n"
     ]
    },
    {
     "name": "stdout",
     "output_type": "stream",
     "text": [
      "Iteration 2: recall score = 0.5000, precision score = 0.9500\n"
     ]
    },
    {
     "name": "stderr",
     "output_type": "stream",
     "text": [
      "/Users/rain/anaconda3/envs/python37/lib/python3.6/site-packages/sklearn/linear_model/logistic.py:432: FutureWarning: Default solver will be changed to 'lbfgs' in 0.22. Specify a solver to silence this warning.\n",
      "  FutureWarning)\n",
      "/Users/rain/anaconda3/envs/python37/lib/python3.6/site-packages/sklearn/svm/base.py:922: ConvergenceWarning: Liblinear failed to converge, increase the number of iterations.\n",
      "  \"the number of iterations.\", ConvergenceWarning)\n",
      "/Users/rain/anaconda3/envs/python37/lib/python3.6/site-packages/sklearn/linear_model/logistic.py:432: FutureWarning: Default solver will be changed to 'lbfgs' in 0.22. Specify a solver to silence this warning.\n",
      "  FutureWarning)\n"
     ]
    },
    {
     "name": "stdout",
     "output_type": "stream",
     "text": [
      "Iteration 3: recall score = 0.4211, precision score = 0.8889\n",
      "Iteration 4: recall score = 0.4865, precision score = 0.9000\n"
     ]
    },
    {
     "name": "stderr",
     "output_type": "stream",
     "text": [
      "/Users/rain/anaconda3/envs/python37/lib/python3.6/site-packages/sklearn/linear_model/logistic.py:432: FutureWarning: Default solver will be changed to 'lbfgs' in 0.22. Specify a solver to silence this warning.\n",
      "  FutureWarning)\n"
     ]
    },
    {
     "name": "stdout",
     "output_type": "stream",
     "text": [
      "Iteration 5: recall score = 0.4054, precision score = 1.0000\n",
      "\n",
      "Mean recall score\n",
      "Mean precision score\n",
      "\n",
      "*********************************************************************************\n",
      "Best model to choose from cross validation is with C parameter =  2    1.0\n",
      "Name: C_parameter, dtype: float64\n",
      "*********************************************************************************\n"
     ]
    },
    {
     "name": "stderr",
     "output_type": "stream",
     "text": [
      "/Users/rain/anaconda3/envs/python37/lib/python3.6/site-packages/ipykernel_launcher.py:44: DeprecationWarning: \n",
      ".ix is deprecated. Please use\n",
      ".loc for label based indexing or\n",
      ".iloc for positional indexing\n",
      "\n",
      "See the documentation here:\n",
      "http://pandas.pydata.org/pandas-docs/stable/indexing.html#ix-indexer-is-deprecated\n",
      "/Users/rain/anaconda3/envs/python37/lib/python3.6/site-packages/ipykernel_launcher.py:45: DeprecationWarning: \n",
      ".ix is deprecated. Please use\n",
      ".loc for label based indexing or\n",
      ".iloc for positional indexing\n",
      "\n",
      "See the documentation here:\n",
      "http://pandas.pydata.org/pandas-docs/stable/indexing.html#ix-indexer-is-deprecated\n"
     ]
    },
    {
     "data": {
      "text/plain": [
       "2    1.0\n",
       "Name: C_parameter, dtype: float64"
      ]
     },
     "execution_count": 155,
     "metadata": {},
     "output_type": "execute_result"
    }
   ],
   "source": [
    "# use function printing_Kfold_scores to find the best hyper-parameter\n",
    "## notes: my computer can not afford such a big data, so I random sample data.\n",
    "Kfold_scores(x_train_1.iloc[:100000], y_train_1.iloc[:100000], kfoldnum = 5, c_array = [0.01, 0.1, 1])"
   ]
  },
  {
   "cell_type": "code",
   "execution_count": 159,
   "metadata": {},
   "outputs": [
    {
     "name": "stderr",
     "output_type": "stream",
     "text": [
      "/Users/rain/anaconda3/envs/python37/lib/python3.6/site-packages/sklearn/linear_model/logistic.py:432: FutureWarning: Default solver will be changed to 'lbfgs' in 0.22. Specify a solver to silence this warning.\n",
      "  FutureWarning)\n"
     ]
    }
   ],
   "source": [
    "# fit the model\n",
    "lr = LogisticRegression(C = 1, penalty = 'l1')\n",
    "lr.fit(x_train_1.iloc[:4000000,:],y_train_1.iloc[:4000000])\n",
    "y_pred = lr.predict(x_test_1)\n",
    "cnf_matrix = sklearn.metrics.confusion_matrix(y_pred, y_test_1)\n"
   ]
  },
  {
   "cell_type": "code",
   "execution_count": 132,
   "metadata": {},
   "outputs": [
    {
     "data": {
      "text/plain": [
       "array([[502037,    533],\n",
       "       [    66,    393]])"
      ]
     },
     "execution_count": 132,
     "metadata": {},
     "output_type": "execute_result"
    }
   ],
   "source": [
    "cnf_matrix"
   ]
  },
  {
   "cell_type": "markdown",
   "metadata": {},
   "source": [
    "# For data2, modeling"
   ]
  },
  {
   "cell_type": "code",
   "execution_count": 129,
   "metadata": {},
   "outputs": [
    {
     "name": "stdout",
     "output_type": "stream",
     "text": [
      "-------------------------------------------\n",
      "C parameter:  0.01\n",
      "-------------------------------------------\n",
      "\n"
     ]
    },
    {
     "name": "stderr",
     "output_type": "stream",
     "text": [
      "/Users/rain/anaconda3/envs/python37/lib/python3.6/site-packages/sklearn/linear_model/logistic.py:432: FutureWarning: Default solver will be changed to 'lbfgs' in 0.22. Specify a solver to silence this warning.\n",
      "  FutureWarning)\n"
     ]
    },
    {
     "name": "stdout",
     "output_type": "stream",
     "text": [
      "Iteration 1: recall score = 0.5970, precision score = 0.8933\n"
     ]
    },
    {
     "name": "stderr",
     "output_type": "stream",
     "text": [
      "/Users/rain/anaconda3/envs/python37/lib/python3.6/site-packages/sklearn/linear_model/logistic.py:432: FutureWarning: Default solver will be changed to 'lbfgs' in 0.22. Specify a solver to silence this warning.\n",
      "  FutureWarning)\n"
     ]
    },
    {
     "name": "stdout",
     "output_type": "stream",
     "text": [
      "Iteration 2: recall score = 0.6418, precision score = 0.9021\n"
     ]
    },
    {
     "name": "stderr",
     "output_type": "stream",
     "text": [
      "/Users/rain/anaconda3/envs/python37/lib/python3.6/site-packages/sklearn/linear_model/logistic.py:432: FutureWarning: Default solver will be changed to 'lbfgs' in 0.22. Specify a solver to silence this warning.\n",
      "  FutureWarning)\n"
     ]
    },
    {
     "name": "stdout",
     "output_type": "stream",
     "text": [
      "Iteration 3: recall score = 0.6070, precision score = 0.9196\n"
     ]
    },
    {
     "name": "stderr",
     "output_type": "stream",
     "text": [
      "/Users/rain/anaconda3/envs/python37/lib/python3.6/site-packages/sklearn/linear_model/logistic.py:432: FutureWarning: Default solver will be changed to 'lbfgs' in 0.22. Specify a solver to silence this warning.\n",
      "  FutureWarning)\n"
     ]
    },
    {
     "name": "stdout",
     "output_type": "stream",
     "text": [
      "Iteration 4: recall score = 0.6711, precision score = 0.8707\n"
     ]
    },
    {
     "name": "stderr",
     "output_type": "stream",
     "text": [
      "/Users/rain/anaconda3/envs/python37/lib/python3.6/site-packages/sklearn/linear_model/logistic.py:432: FutureWarning: Default solver will be changed to 'lbfgs' in 0.22. Specify a solver to silence this warning.\n",
      "  FutureWarning)\n"
     ]
    },
    {
     "name": "stdout",
     "output_type": "stream",
     "text": [
      "Iteration 5: recall score = 0.5897, precision score = 0.9103\n",
      "\n",
      "Mean recall score\n",
      "Mean precision score\n",
      "\n",
      "-------------------------------------------\n",
      "C parameter:  0.1\n",
      "-------------------------------------------\n",
      "\n"
     ]
    },
    {
     "name": "stderr",
     "output_type": "stream",
     "text": [
      "/Users/rain/anaconda3/envs/python37/lib/python3.6/site-packages/ipykernel_launcher.py:44: DeprecationWarning: \n",
      ".ix is deprecated. Please use\n",
      ".loc for label based indexing or\n",
      ".iloc for positional indexing\n",
      "\n",
      "See the documentation here:\n",
      "http://pandas.pydata.org/pandas-docs/stable/indexing.html#ix-indexer-is-deprecated\n",
      "/Users/rain/anaconda3/envs/python37/lib/python3.6/site-packages/ipykernel_launcher.py:45: DeprecationWarning: \n",
      ".ix is deprecated. Please use\n",
      ".loc for label based indexing or\n",
      ".iloc for positional indexing\n",
      "\n",
      "See the documentation here:\n",
      "http://pandas.pydata.org/pandas-docs/stable/indexing.html#ix-indexer-is-deprecated\n",
      "/Users/rain/anaconda3/envs/python37/lib/python3.6/site-packages/sklearn/linear_model/logistic.py:432: FutureWarning: Default solver will be changed to 'lbfgs' in 0.22. Specify a solver to silence this warning.\n",
      "  FutureWarning)\n"
     ]
    },
    {
     "name": "stdout",
     "output_type": "stream",
     "text": [
      "Iteration 1: recall score = 0.6003, precision score = 0.9027\n"
     ]
    },
    {
     "name": "stderr",
     "output_type": "stream",
     "text": [
      "/Users/rain/anaconda3/envs/python37/lib/python3.6/site-packages/sklearn/linear_model/logistic.py:432: FutureWarning: Default solver will be changed to 'lbfgs' in 0.22. Specify a solver to silence this warning.\n",
      "  FutureWarning)\n",
      "/Users/rain/anaconda3/envs/python37/lib/python3.6/site-packages/sklearn/svm/base.py:922: ConvergenceWarning: Liblinear failed to converge, increase the number of iterations.\n",
      "  \"the number of iterations.\", ConvergenceWarning)\n",
      "/Users/rain/anaconda3/envs/python37/lib/python3.6/site-packages/sklearn/linear_model/logistic.py:432: FutureWarning: Default solver will be changed to 'lbfgs' in 0.22. Specify a solver to silence this warning.\n",
      "  FutureWarning)\n"
     ]
    },
    {
     "name": "stdout",
     "output_type": "stream",
     "text": [
      "Iteration 2: recall score = 0.6434, precision score = 0.9194\n",
      "Iteration 3: recall score = 0.6136, precision score = 0.8981\n"
     ]
    },
    {
     "name": "stderr",
     "output_type": "stream",
     "text": [
      "/Users/rain/anaconda3/envs/python37/lib/python3.6/site-packages/sklearn/linear_model/logistic.py:432: FutureWarning: Default solver will be changed to 'lbfgs' in 0.22. Specify a solver to silence this warning.\n",
      "  FutureWarning)\n"
     ]
    },
    {
     "name": "stdout",
     "output_type": "stream",
     "text": [
      "Iteration 4: recall score = 0.6744, precision score = 0.8750\n"
     ]
    },
    {
     "name": "stderr",
     "output_type": "stream",
     "text": [
      "/Users/rain/anaconda3/envs/python37/lib/python3.6/site-packages/sklearn/linear_model/logistic.py:432: FutureWarning: Default solver will be changed to 'lbfgs' in 0.22. Specify a solver to silence this warning.\n",
      "  FutureWarning)\n"
     ]
    },
    {
     "name": "stdout",
     "output_type": "stream",
     "text": [
      "Iteration 5: recall score = 0.5963, precision score = 0.8975\n",
      "\n",
      "Mean recall score\n",
      "Mean precision score\n",
      "\n",
      "-------------------------------------------\n",
      "C parameter:  1\n",
      "-------------------------------------------\n",
      "\n"
     ]
    },
    {
     "name": "stderr",
     "output_type": "stream",
     "text": [
      "/Users/rain/anaconda3/envs/python37/lib/python3.6/site-packages/ipykernel_launcher.py:44: DeprecationWarning: \n",
      ".ix is deprecated. Please use\n",
      ".loc for label based indexing or\n",
      ".iloc for positional indexing\n",
      "\n",
      "See the documentation here:\n",
      "http://pandas.pydata.org/pandas-docs/stable/indexing.html#ix-indexer-is-deprecated\n",
      "/Users/rain/anaconda3/envs/python37/lib/python3.6/site-packages/ipykernel_launcher.py:45: DeprecationWarning: \n",
      ".ix is deprecated. Please use\n",
      ".loc for label based indexing or\n",
      ".iloc for positional indexing\n",
      "\n",
      "See the documentation here:\n",
      "http://pandas.pydata.org/pandas-docs/stable/indexing.html#ix-indexer-is-deprecated\n",
      "/Users/rain/anaconda3/envs/python37/lib/python3.6/site-packages/sklearn/linear_model/logistic.py:432: FutureWarning: Default solver will be changed to 'lbfgs' in 0.22. Specify a solver to silence this warning.\n",
      "  FutureWarning)\n"
     ]
    },
    {
     "name": "stdout",
     "output_type": "stream",
     "text": [
      "Iteration 1: recall score = 0.6003, precision score = 0.9005\n"
     ]
    },
    {
     "name": "stderr",
     "output_type": "stream",
     "text": [
      "/Users/rain/anaconda3/envs/python37/lib/python3.6/site-packages/sklearn/linear_model/logistic.py:432: FutureWarning: Default solver will be changed to 'lbfgs' in 0.22. Specify a solver to silence this warning.\n",
      "  FutureWarning)\n"
     ]
    },
    {
     "name": "stdout",
     "output_type": "stream",
     "text": [
      "Iteration 2: recall score = 0.6451, precision score = 0.9131\n"
     ]
    },
    {
     "name": "stderr",
     "output_type": "stream",
     "text": [
      "/Users/rain/anaconda3/envs/python37/lib/python3.6/site-packages/sklearn/linear_model/logistic.py:432: FutureWarning: Default solver will be changed to 'lbfgs' in 0.22. Specify a solver to silence this warning.\n",
      "  FutureWarning)\n"
     ]
    },
    {
     "name": "stdout",
     "output_type": "stream",
     "text": [
      "Iteration 3: recall score = 0.6153, precision score = 0.8983\n"
     ]
    },
    {
     "name": "stderr",
     "output_type": "stream",
     "text": [
      "/Users/rain/anaconda3/envs/python37/lib/python3.6/site-packages/sklearn/linear_model/logistic.py:432: FutureWarning: Default solver will be changed to 'lbfgs' in 0.22. Specify a solver to silence this warning.\n",
      "  FutureWarning)\n"
     ]
    },
    {
     "name": "stdout",
     "output_type": "stream",
     "text": [
      "Iteration 4: recall score = 0.6744, precision score = 0.8731\n"
     ]
    },
    {
     "name": "stderr",
     "output_type": "stream",
     "text": [
      "/Users/rain/anaconda3/envs/python37/lib/python3.6/site-packages/sklearn/linear_model/logistic.py:432: FutureWarning: Default solver will be changed to 'lbfgs' in 0.22. Specify a solver to silence this warning.\n",
      "  FutureWarning)\n"
     ]
    },
    {
     "name": "stdout",
     "output_type": "stream",
     "text": [
      "Iteration 5: recall score = 0.5997, precision score = 0.9002\n",
      "\n",
      "Mean recall score\n",
      "Mean precision score\n",
      "\n",
      "*********************************************************************************\n",
      "Best model to choose from cross validation is with C parameter =  2    1.0\n",
      "Name: C_parameter, dtype: float64\n",
      "*********************************************************************************\n"
     ]
    },
    {
     "name": "stderr",
     "output_type": "stream",
     "text": [
      "/Users/rain/anaconda3/envs/python37/lib/python3.6/site-packages/ipykernel_launcher.py:44: DeprecationWarning: \n",
      ".ix is deprecated. Please use\n",
      ".loc for label based indexing or\n",
      ".iloc for positional indexing\n",
      "\n",
      "See the documentation here:\n",
      "http://pandas.pydata.org/pandas-docs/stable/indexing.html#ix-indexer-is-deprecated\n",
      "/Users/rain/anaconda3/envs/python37/lib/python3.6/site-packages/ipykernel_launcher.py:45: DeprecationWarning: \n",
      ".ix is deprecated. Please use\n",
      ".loc for label based indexing or\n",
      ".iloc for positional indexing\n",
      "\n",
      "See the documentation here:\n",
      "http://pandas.pydata.org/pandas-docs/stable/indexing.html#ix-indexer-is-deprecated\n"
     ]
    },
    {
     "data": {
      "text/plain": [
       "2    1.0\n",
       "Name: C_parameter, dtype: float64"
      ]
     },
     "execution_count": 129,
     "metadata": {},
     "output_type": "execute_result"
    }
   ],
   "source": [
    "# now, using logistics regression to do classfication\n",
    "## for data1 \n",
    "## 1 split into training and validation data\n",
    "## 2 fit the model\n",
    "## 3 Predict values using the test indices in the testing data\n",
    "## 4 Calculate the recall score\n",
    "import sklearn\n",
    "x_2 = new_2[['amount',  'oldbalanceOrg',  'newbalanceOrig',  'oldbalanceDest',  'newbalanceDest', 'TRANSFER']]\n",
    "Y_2 = new_2['isFraud']\n",
    "x_train_2, x_test_2, y_train_2, y_test_2 = sklearn.model_selection.train_test_split(x_2, Y_2, train_size = 0.8)\n",
    "\n",
    "# use function printing_Kfold_scores to find the best hyper-parameter\n",
    "## notes: my computer can not afford such a big data, so I random sample data.\n",
    "Kfold_scores(x_train_2.iloc[:1000000], y_train_2.iloc[:1000000], kfoldnum = 5, c_array = [0.01, 0.1, 1])"
   ]
  },
  {
   "cell_type": "code",
   "execution_count": 161,
   "metadata": {},
   "outputs": [
    {
     "name": "stderr",
     "output_type": "stream",
     "text": [
      "/Users/rain/anaconda3/envs/python37/lib/python3.6/site-packages/sklearn/linear_model/logistic.py:432: FutureWarning: Default solver will be changed to 'lbfgs' in 0.22. Specify a solver to silence this warning.\n",
      "  FutureWarning)\n"
     ]
    }
   ],
   "source": [
    "# using c = 0.1 to fit the model\n",
    "## fit the model\n",
    "lr = LogisticRegression(C = 1, penalty = 'l1')\n",
    "lr.fit(x_train_2.iloc[:100000,:],y_train_2.iloc[:100000])\n",
    "## prediction\n",
    "y_pred = lr.predict(x_test_2)\n",
    "cnf_matrix = sklearn.metrics.confusion_matrix(y_pred, y_test_2)"
   ]
  },
  {
   "cell_type": "markdown",
   "metadata": {},
   "source": [
    "# Visualize the test results using ROC CURVE"
   ]
  },
  {
   "cell_type": "code",
   "execution_count": 163,
   "metadata": {},
   "outputs": [
    {
     "data": {
      "image/png": "[encoded data removed]",
      "text/plain": [
       "<Figure size 432x288 with 1 Axes>"
      ]
     },
     "metadata": {
      "needs_background": "light"
     },
     "output_type": "display_data"
    }
   ],
   "source": [
    "# for data 1\n",
    "fpr, tpr, thresholds = sklearn.metrics.roc_curve(y_test_1,y_pred)\n",
    "roc_auc = sklearn.metrics.auc(fpr,tpr)\n",
    "\n",
    "# Plot ROC\n",
    "plt.title('roc curve plot in data 1')\n",
    "plt.plot(fpr, tpr, 'b',label='AUC = %0.2f'% roc_auc)\n",
    "#plt.legend(loc='lower right')\n",
    "plt.plot([0,1],[0,1],'r--')\n",
    "plt.xlim([-0.1,1.0])\n",
    "plt.ylim([-0.1,1.01])\n",
    "plt.ylabel('True Positive Rate')\n",
    "plt.xlabel('False Positive Rate')\n",
    "plt.show()"
   ]
  },
  {
   "cell_type": "code",
   "execution_count": 162,
   "metadata": {},
   "outputs": [
    {
     "data": {
      "image/png": "[encoded data removed]",
      "text/plain": [
       "<Figure size 432x288 with 1 Axes>"
      ]
     },
     "metadata": {
      "needs_background": "light"
     },
     "output_type": "display_data"
    }
   ],
   "source": [
    "# for data 2\n",
    "fpr, tpr, thresholds = sklearn.metrics.roc_curve(y_test_2,y_pred)\n",
    "roc_auc = sklearn.metrics.auc(fpr,tpr)\n",
    "\n",
    "# Plot ROC\n",
    "plt.title('roc curve plot in data 1')\n",
    "plt.plot(fpr, tpr, 'b',label='AUC = %0.2f'% roc_auc)\n",
    "#plt.legend(loc='lower right')\n",
    "plt.plot([0,1],[0,1],'r--')\n",
    "plt.xlim([-0.1,1.0])\n",
    "plt.ylim([-0.1,1.01])\n",
    "plt.ylabel('True Positive Rate')\n",
    "plt.xlabel('False Positive Rate')\n",
    "plt.show()"
   ]
  },
  {
   "cell_type": "markdown",
   "metadata": {},
   "source": [
    "improve results: we need more features to classifier, also, I think we need to try more methods not just two classification\n",
    "assumptions: \n",
    "Assumptions of Logistic Regression\n",
    "Logistic regression does not make many of the key assumptions of linear regression and general linear models that are based on ordinary least squares algorithms – particularly regarding linearity, normality, homoscedasticity, and measurement level."
   ]
  }
 ],
 "metadata": {
  "kernelspec": {
   "display_name": "Python 3",
   "language": "python",
   "name": "python3"
  },
  "language_info": {
   "codemirror_mode": {
    "name": "ipython",
    "version": 3
   },
   "file_extension": ".py",
   "mimetype": "text/x-python",
   "name": "python",
   "nbconvert_exporter": "python",
   "pygments_lexer": "ipython3",
   "version": "3.6.8"
  }
 },
 "nbformat": 4,
 "nbformat_minor": 2
}
